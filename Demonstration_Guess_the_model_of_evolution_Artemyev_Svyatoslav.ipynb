{
  "nbformat": 4,
  "nbformat_minor": 0,
  "metadata": {
    "colab": {
      "provenance": [],
      "include_colab_link": true
    },
    "kernelspec": {
      "name": "python3",
      "display_name": "Python 3"
    },
    "language_info": {
      "name": "python"
    }
  },
  "cells": [
    {
      "cell_type": "markdown",
      "metadata": {
        "id": "view-in-github",
        "colab_type": "text"
      },
      "source": [
        "<a href=\"https://colab.research.google.com/github/furushigava/Guess-the-model-of-evolution/blob/main/Demonstration_Guess_the_model_of_evolution_Artemyev_Svyatoslav.ipynb.ipynb\" target=\"_parent\"><img src=\"https://colab.research.google.com/assets/colab-badge.svg\" alt=\"Open In Colab\"/></a>"
      ]
    },
    {
      "cell_type": "markdown",
      "source": [
        "Рабочий GitHub: https://github.com/furushigava/Guess-the-model-of-evolution\n"
      ],
      "metadata": {
        "id": "nXXDmdRF0auq"
      }
    },
    {
      "cell_type": "code",
      "execution_count": 14,
      "metadata": {
        "colab": {
          "base_uri": "https://localhost:8080/"
        },
        "id": "dJIHNp_oxQy3",
        "outputId": "486a96d7-9c08-43f8-9254-9ade7e0f7836"
      },
      "outputs": [
        {
          "output_type": "stream",
          "name": "stdout",
          "text": [
            "Requirement already satisfied: biopython in /usr/local/lib/python3.10/dist-packages (1.81)\n",
            "Requirement already satisfied: numpy in /usr/local/lib/python3.10/dist-packages (from biopython) (1.22.4)\n"
          ]
        }
      ],
      "source": [
        "!pip install biopython"
      ]
    },
    {
      "cell_type": "code",
      "source": [
        "!git clone https://github.com/furushigava/Guess-the-model-of-evolution"
      ],
      "metadata": {
        "colab": {
          "base_uri": "https://localhost:8080/"
        },
        "id": "rRZ4KViEtxLs",
        "outputId": "4a315bab-921c-4ce5-de8d-921d581730e8"
      },
      "execution_count": 15,
      "outputs": [
        {
          "output_type": "stream",
          "name": "stdout",
          "text": [
            "Cloning into 'Guess-the-model-of-evolution'...\n",
            "remote: Enumerating objects: 157, done.\u001b[K\n",
            "remote: Counting objects: 100% (154/154), done.\u001b[K\n",
            "remote: Compressing objects: 100% (114/114), done.\u001b[K\n",
            "remote: Total 157 (delta 77), reused 74 (delta 37), pack-reused 3\u001b[K\n",
            "Receiving objects: 100% (157/157), 61.34 KiB | 1.25 MiB/s, done.\n",
            "Resolving deltas: 100% (77/77), done.\n"
          ]
        }
      ]
    },
    {
      "cell_type": "code",
      "source": [
        "%cd Guess-the-model-of-evolution\n",
        "!ls"
      ],
      "metadata": {
        "colab": {
          "base_uri": "https://localhost:8080/"
        },
        "id": "KW_4XUPNt0-s",
        "outputId": "ddb6b73b-a27e-4445-ed2c-73b9f449d11f"
      },
      "execution_count": 16,
      "outputs": [
        {
          "output_type": "stream",
          "name": "stdout",
          "text": [
            "/content/Guess-the-model-of-evolution/Guess-the-model-of-evolution\n",
            "Demonstration_Guess_the_model_of_evolution_Artemyev_Svyatoslav.ipynb\n",
            "Engine_Evolution.py\n",
            "Evaluator_Predictor.py\n",
            "Models_Evolution.py\n",
            "Predictor_Model_Evolution.py\n",
            "README.md\n",
            "Results\n",
            "sequence_prp_example.fasta\n"
          ]
        }
      ]
    },
    {
      "cell_type": "code",
      "source": [
        "!python Engine_Evolution.py"
      ],
      "metadata": {
        "colab": {
          "base_uri": "https://localhost:8080/"
        },
        "id": "uLxheJM7t6LU",
        "outputId": "94944eb4-b130-4866-c7cd-a3b8866d8d63"
      },
      "execution_count": 17,
      "outputs": [
        {
          "output_type": "stream",
          "name": "stdout",
          "text": [
            "Enter path to fasta file or enter \"RANDOM\" for generate random sequence: sequence_prp_example.fasta\n",
            "Choice a model of nucleotide substitutions:\n",
            "1) JC69 (Jukes and Cantor 1969)\n",
            "2) K81 (Kimura 1981)\n",
            "3) F81 (Felsenstein 1981)\n",
            "4) SYM\n",
            "5) Random model with random params\n",
            "==>5\n",
            "Start model: K81, with params = [0.010416666666666666, 0.018518518518518517, 0.011235955056179775]\n",
            "Enter time: 2.5\n",
            "Enter path to save new generated sequence or enter \"PRINT\" for only print datas: generated_file.fasta\n",
            "Q-matrix: \n",
            "[[-0.04017114  0.01041667  0.01851852  0.01123596]\n",
            " [ 0.01041667 -0.04017114  0.01123596  0.01851852]\n",
            " [ 0.01851852  0.01123596 -0.04017114  0.01041667]\n",
            " [ 0.01123596  0.01851852  0.01041667 -0.04017114]]\n",
            "P-matrix: \n",
            "[[0.90611485 0.02476778 0.04258088 0.02653649]\n",
            " [0.02476778 0.90611485 0.02653649 0.04258088]\n",
            " [0.04258088 0.02653649 0.90611485 0.02476778]\n",
            " [0.02653649 0.04258088 0.02476778 0.90611485]]\n"
          ]
        }
      ]
    },
    {
      "cell_type": "code",
      "source": [
        "!ls && head -c 200 generated_file.fasta"
      ],
      "metadata": {
        "colab": {
          "base_uri": "https://localhost:8080/"
        },
        "id": "iz8sf_HMuOfs",
        "outputId": "8619acb2-5791-4cc3-fc9a-cce1d3ae569d"
      },
      "execution_count": 18,
      "outputs": [
        {
          "output_type": "stream",
          "name": "stdout",
          "text": [
            "Demonstration_Guess_the_model_of_evolution_Artemyev_Svyatoslav.ipynb\n",
            "Engine_Evolution.py\n",
            "Evaluator_Predictor.py\n",
            "generated_file.fasta\n",
            "Models_Evolution.py\n",
            "Predictor_Model_Evolution.py\n",
            "__pycache__\n",
            "README.md\n",
            "Results\n",
            "sequence_prp_example.fasta\n",
            ">lcl|NC_000020.11_gene_1 [gene=PRNP] [db_xref=GeneID:5621,HGNC:HGNC:9449,MIM:176640] [location=4686456..4701588] [gbkey=Gene]\n",
            "GCCAGTCGCTGACAGCCGCGGAGCCGCGAGCTTCTCCTCTCCTCACGACCGAGGTAGGTAAGCGCCGGGGGTGG"
          ]
        }
      ]
    },
    {
      "cell_type": "code",
      "source": [
        "!python Predictor_Model_Evolution.py"
      ],
      "metadata": {
        "colab": {
          "base_uri": "https://localhost:8080/"
        },
        "id": "T0ExzpfEw970",
        "outputId": "940847fd-92fc-4193-adf6-615ed371b469"
      },
      "execution_count": 19,
      "outputs": [
        {
          "output_type": "stream",
          "name": "stdout",
          "text": [
            "Enter path to fasta file with first (old) sequence: sequence_prp_example.fasta\n",
            "Enter path to fasta file with second (young) sequence: generated_file.fasta\n",
            "Enter time: 2.5\n",
            "Empirical P-matrix: \n",
            "[[0.91103549 0.03074992 0.05234249 0.02237703]\n",
            " [0.02041808 0.90963288 0.02423263 0.02723243]\n",
            " [0.03014098 0.02698463 0.90371567 0.01857716]\n",
            " [0.02989791 0.06557891 0.0365105  0.90605869]]\n",
            "Empirical Q-matrix: \n",
            "[[-0.03793899  0.01285473  0.02274329  0.00944111]\n",
            " [ 0.00862259 -0.03860263  0.01022084  0.01180489]\n",
            " [ 0.0130477   0.01141767 -0.04117945  0.00789192]\n",
            " [ 0.01260891  0.02849368  0.01541985 -0.04019567]]\n",
            "Best params for JC69: [0.01324827883956081]\n",
            "Best params for K81: [0.010756618970308739, 0.01858173733661099, 0.01048148021176272]\n",
            "Best params for F81: [0.011942679774265733, 0.01639848879422942, 0.014658757850802078, 0.010093188938945993]\n",
            "Best params for SYM: [0.009923123537000256, 0.018058308190598032, 0.010326990671231547, 0.010635969752293835, 0.019105166482623955, 0.011590114403617218]\n",
            "LLF(loglikelihood) for JC69: -100.29719328952345\n",
            "LLF(loglikelihood) for K81: -62.27448078140762\n",
            "LLF(loglikelihood) for F81: -120.90780193792452\n",
            "LLF(loglikelihood) for SYM: -62.57462699486415\n",
            "Difference points for JC69 method taking into account the complexity of the model: 202.5943865790469\n",
            "Difference points for K81 method taking into account the complexity of the model: 130.54896156281524\n",
            "Difference points for F81 method taking into account the complexity of the model: 249.81560387584904\n",
            "Difference points for SYM method taking into account the complexity of the model: 137.1492539897283\n",
            "Predicted model: K81\n",
            "Best params: [0.010756618970308739, 0.01858173733661099, 0.01048148021176272]\n"
          ]
        }
      ]
    },
    {
      "cell_type": "code",
      "source": [
        "!python Evaluator_Predictor.py"
      ],
      "metadata": {
        "colab": {
          "base_uri": "https://localhost:8080/"
        },
        "id": "x7xvuQRnxJ5U",
        "outputId": "5980a7ce-3151-496f-9ae7-2ade7ecea4b3"
      },
      "execution_count": null,
      "outputs": [
        {
          "output_type": "stream",
          "name": "stdout",
          "text": [
            "Enter times for check (ex: 0.5, 0.1, ...) or enter STANDART for standart check: 2.5\n",
            "General view of the error matrix:\n",
            "        Real\\Pred  JC69   K81  F81  SYM  ERRORS\n",
            "        JC69        N      N    N    N     N\n",
            "        K81         N      N    N    N     N\n",
            "        F81         N      N    N    N     N\n",
            "        SYM         N      N    N    N     N\n",
            "        \n",
            "100% 100/100 [09:29<00:00,  5.69s/it]\n",
            "100% 100/100 [09:31<00:00,  5.72s/it]\n",
            "100% 100/100 [09:28<00:00,  5.68s/it]\n",
            "100% 100/100 [09:22<00:00,  5.63s/it]\n",
            "For time = 2.5, the error matrix looks like this: \n",
            "[[ 74  18   6   2   0]\n",
            " [  0  94   0   6   0]\n",
            " [  0   0 100   0   0]\n",
            " [  0   0   0 100   0]]\n"
          ]
        }
      ]
    },
    {
      "cell_type": "code",
      "source": [
        "!ls Results && cat Results/result_evaluator_work.txt"
      ],
      "metadata": {
        "colab": {
          "base_uri": "https://localhost:8080/"
        },
        "id": "JaG-IUis03PE",
        "outputId": "7ef02e2f-9071-4357-da81-acd7929ef1b9"
      },
      "execution_count": 20,
      "outputs": [
        {
          "output_type": "stream",
          "name": "stdout",
          "text": [
            "example_sequence_generated_prp.fasta  result_predictor_work.txt\n",
            "result_evaluator_work.txt\t      sequence_prp_example.fasta\n",
            "General view of the error matrix:\r\n",
            "        Real\\Pred  JC69   K81  F81  SYM  ERRORS\r\n",
            "        JC69        N      N    N    N     N\r\n",
            "        K81         N      N    N    N     N\r\n",
            "        F81         N      N    N    N     N\r\n",
            "        SYM         N      N    N    N     N\r\n",
            "For time = 1e-05, the error matrix looks like this: \r\n",
            "[[58  4  1  0 37]\r\n",
            " [54  6  0  0 40]\r\n",
            " [67  2  0  0 31]\r\n",
            " [65  5  0  1 29]]\r\n",
            "For time = 0.0001, the error matrix looks like this: \r\n",
            "[[89  7  3  0  1]\r\n",
            " [67 33  0  0  0]\r\n",
            " [76 10 13  1  0]\r\n",
            " [55 33  4  8  0]]\r\n",
            "For time = 0.001, the error matrix looks like this: \r\n",
            "[[80 10  6  4  0]\r\n",
            " [19 78  2  1  0]\r\n",
            " [17  3 78  2  0]\r\n",
            " [11 20  2 67  0]]\r\n",
            "For time = 0.01, the error matrix looks like this: \r\n",
            "[[79 15  5  1  0]\r\n",
            " [ 4 88  1  7  0]\r\n",
            " [ 1  2 95  2  0]\r\n",
            " [ 0  2  0 98  0]]\r\n",
            "For time = 0.05, the error matrix looks like this: \r\n",
            "[[ 81  14   2   3   0]\r\n",
            " [  0  94   0   6   0]\r\n",
            " [  0   0 100   0   0]\r\n",
            " [  0   0   0 100   0]]\r\n",
            "For time = 0.1, the error matrix looks like this: \r\n",
            "[[ 86   8   3   3   0]\r\n",
            " [  0  96   0   4   0]\r\n",
            " [  0   0 100   0   0]\r\n",
            " [  0   0   0 100   0]] \r\n",
            "For time = 0.15, the error matrix looks like this: \r\n",
            "[[ 74  15   8   3   0]\r\n",
            " [  0  96   0   4   0]\r\n",
            " [  0   0 100   0   0]\r\n",
            " [  0   0   0 100   0]]\r\n",
            "For time = 0.2, the error matrix looks like this: \r\n",
            "[[ 76  15   5   4   0]\r\n",
            " [  0  93   0   7   0]\r\n",
            " [  0   0 100   0   0]\r\n",
            " [  0   0   0 100   0]]\r\n",
            "For time = 0.25, the error matrix looks like this: \r\n",
            "[[ 84   5  10   1   0]\r\n",
            " [  0  93   0   7   0]\r\n",
            " [  0   0 100   0   0]\r\n",
            " [  0   0   0 100   0]]\r\n",
            "For time = 0.3, the error matrix looks like this: \r\n",
            "[[ 79  12   7   2   0]\r\n",
            " [  0  97   0   3   0]\r\n",
            " [  0   0 100   0   0]\r\n",
            " [  0   0   0 100   0]]\r\n",
            "For time = 0.35, the error matrix looks like this: \r\n",
            "[[ 73  13   8   6   0]\r\n",
            " [  0  91   0   9   0]\r\n",
            " [  0   0 100   0   0]\r\n",
            " [  0   0   0 100   0]]\r\n",
            "For time = 0.4, the error matrix looks like this: \r\n",
            "[[ 80  14   5   1   0]\r\n",
            " [  0  96   0   4   0]\r\n",
            " [  0   0 100   0   0]\r\n",
            " [  0   0   0 100   0]]\r\n",
            "For time = 0.45, the error matrix looks like this: \r\n",
            "[[ 75  13   7   5   0]\r\n",
            " [  0  95   0   5   0]\r\n",
            " [  0   0 100   0   0]\r\n",
            " [  0   0   0 100   0]]\r\n",
            "For time = 0.5, the error matrix looks like this: \r\n",
            "[[ 82  12   0   6   0]\r\n",
            " [  0  96   0   4   0]\r\n",
            " [  0   0 100   0   0]\r\n",
            " [  0   0   0 100   0]]\r\n",
            "For time = 1.0, the error matrix looks like this: \r\n",
            "[[ 79  15   4   2   0]\r\n",
            " [  0  96   0   4   0]\r\n",
            " [  0   0 100   0   0]\r\n",
            " [  0   0   0 100   0]]\r\n",
            "For time = 1.5, the error matrix looks like this: \r\n",
            "[[ 75  17   4   4   0]\r\n",
            " [  0  97   0   3   0]\r\n",
            " [  0   0 100   0   0]\r\n",
            " [  0   0   0 100   0]]\r\n",
            "For time = 2.0, the error matrix looks like this: \r\n",
            "[[ 65  20  12   2   1]\r\n",
            " [  0  93   0   7   0]\r\n",
            " [  0   0 100   0   0]\r\n",
            " [  0   0   0 100   0]]\r\n",
            "For time = 2.5, the error matrix looks like this: \r\n",
            "[[ 74  14   6   6   0]\r\n",
            " [  0  94   0   6   0]\r\n",
            " [  0   0 100   0   0]\r\n",
            " [  0   0   0 100   0]]\r\n",
            "For time = 3.0, the error matrix looks like this: \r\n",
            "[[71 15 10  4  0]\r\n",
            " [ 0 91  0  9  0]\r\n",
            " [ 0  0 99  1  0]\r\n",
            " [ 0  0  0 99  1]]\r\n",
            "For time = 3.5, the error matrix looks like this: \r\n",
            "[[ 68  20   7   5   0]\r\n",
            " [  0  94   0   5   1]\r\n",
            " [  1   0  99   0   0]\r\n",
            " [  0   0   0 100   0]]\r\n",
            "For time = 4.0, the error matrix looks like this: \r\n",
            "[[62 15 11  9  3]\r\n",
            " [ 0 96  0  3  1]\r\n",
            " [ 2  0 98  0  0]\r\n",
            " [ 0  0  0 98  2]]\r\n",
            "For time = 4.5, the error matrix looks like this: \r\n",
            "[[64 24  7  3  2]\r\n",
            " [ 0 93  0  6  1]\r\n",
            " [ 6  0 94  0  0]\r\n",
            " [ 0  0  0 99  1]]\r\n",
            "For time = 5.0, the error matrix looks like this: \r\n",
            "[[69 15 10  5  1]\r\n",
            " [ 0 90  0  8  2]\r\n",
            " [ 4  0 96  0  0]\r\n",
            " [ 0  0  0 97  3]]\r\n",
            "For time = 5.5, the error matrix looks like this: \r\n",
            "[[65 21 11  1  2]\r\n",
            " [ 0 90  0  9  1]\r\n",
            " [ 3  0 96  0  1]\r\n",
            " [ 0  0  0 98  2]]\r\n",
            "For time = 6.0, the error matrix looks like this: \r\n",
            "[[67 22  4  4  3]\r\n",
            " [ 0 93  0  6  1]\r\n",
            " [ 2  0 96  0  2]\r\n",
            " [ 0  0  0 96  4]]\r\n",
            "For time = 6.5, the error matrix looks like this: \r\n",
            "[[60 29  9  2  0]\r\n",
            " [ 0 88  0  8  4]\r\n",
            " [ 6  0 93  0  1]\r\n",
            " [ 0  0  0 95  5]]\r\n",
            "For time = 7.0, the error matrix looks like this: \r\n",
            "[[58 24  8  7  3]\r\n",
            " [ 0 88  0  8  4]\r\n",
            " [ 3  0 94  0  3]\r\n",
            " [ 0  0  0 99  1]]\r\n",
            "For time = 7.5, the error matrix looks like this: \r\n",
            "[[68 18  6  7  1]\r\n",
            " [ 0 84  0 13  3]\r\n",
            " [ 3  0 94  0  3]\r\n",
            " [ 0  0  0 97  3]]\r\n",
            "For time = 8.0, the error matrix looks like this: \r\n",
            "[[55 28  8  4  5]\r\n",
            " [ 0 87  0  6  7]\r\n",
            " [ 9  0 90  0  1]\r\n",
            " [ 0  0  0 96  4]]\r\n",
            "For time = 8.5, the error matrix looks like this: \r\n",
            "[[48 31 11  5  5]\r\n",
            " [ 0 82  0 11  7]\r\n",
            " [ 4  0 92  0  4]\r\n",
            " [ 0  0  0 93  7]]\r\n",
            "For time = 9.0, the error matrix looks like this: \r\n",
            "[[57 31  8  3  1]\r\n",
            " [ 0 85  0  9  6]\r\n",
            " [ 4  0 94  0  2]\r\n",
            " [ 0  0  0 91  9]]\r\n",
            "For time = 9.5, the error matrix looks like this: \r\n",
            "[[45 30 11  7  7]\r\n",
            " [ 0 89  0  6  5]\r\n",
            " [ 4  1 92  0  3]\r\n",
            " [ 0  0  0 95  5]]\r\n",
            "For time = 10.0, the error matrix looks like this: \r\n",
            "[[55 26 12  3  4]\r\n",
            " [ 0 90  0  7  3]\r\n",
            " [11  0 83  0  6]\r\n",
            " [ 0  0  0 91  9]]\r\n",
            "\r\n"
          ]
        }
      ]
    }
  ]
}
