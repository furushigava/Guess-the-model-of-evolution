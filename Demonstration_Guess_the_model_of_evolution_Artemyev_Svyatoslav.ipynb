{
  "nbformat": 4,
  "nbformat_minor": 0,
  "metadata": {
    "colab": {
      "provenance": [],
      "include_colab_link": true
    },
    "kernelspec": {
      "name": "python3",
      "display_name": "Python 3"
    },
    "language_info": {
      "name": "python"
    }
  },
  "cells": [
    {
      "cell_type": "markdown",
      "metadata": {
        "id": "view-in-github",
        "colab_type": "text"
      },
      "source": [
        "<a href=\"https://colab.research.google.com/github/furushigava/Guess-the-model-of-evolution/blob/main/Demonstration_Guess_the_model_of_evolution_Artemyev_Svyatoslav.ipynb\" target=\"_parent\"><img src=\"https://colab.research.google.com/assets/colab-badge.svg\" alt=\"Open In Colab\"/></a>"
      ]
    },
    {
      "cell_type": "markdown",
      "source": [
        "Рабочий GitHub: https://github.com/furushigava/Guess-the-model-of-evolution\n"
      ],
      "metadata": {
        "id": "nXXDmdRF0auq"
      }
    },
    {
      "cell_type": "code",
      "execution_count": 1,
      "metadata": {
        "colab": {
          "base_uri": "https://localhost:8080/"
        },
        "id": "dJIHNp_oxQy3",
        "outputId": "eefd19bf-2d18-43df-9ca4-afcf83408a87"
      },
      "outputs": [
        {
          "output_type": "stream",
          "name": "stdout",
          "text": [
            "Collecting biopython\n",
            "  Downloading biopython-1.81-cp310-cp310-manylinux_2_17_x86_64.manylinux2014_x86_64.whl (3.1 MB)\n",
            "\u001b[?25l     \u001b[90m━━━━━━━━━━━━━━━━━━━━━━━━━━━━━━━━━━━━━━━━\u001b[0m \u001b[32m0.0/3.1 MB\u001b[0m \u001b[31m?\u001b[0m eta \u001b[36m-:--:--\u001b[0m\r\u001b[2K     \u001b[91m━━━\u001b[0m\u001b[90m╺\u001b[0m\u001b[90m━━━━━━━━━━━━━━━━━━━━━━━━━━━━━━━━━━━━\u001b[0m \u001b[32m0.2/3.1 MB\u001b[0m \u001b[31m6.9 MB/s\u001b[0m eta \u001b[36m0:00:01\u001b[0m\r\u001b[2K     \u001b[91m━━━━━━━━━━━━━━━━━━\u001b[0m\u001b[90m╺\u001b[0m\u001b[90m━━━━━━━━━━━━━━━━━━━━━\u001b[0m \u001b[32m1.4/3.1 MB\u001b[0m \u001b[31m20.6 MB/s\u001b[0m eta \u001b[36m0:00:01\u001b[0m\r\u001b[2K     \u001b[90m━━━━━━━━━━━━━━━━━━━━━━━━━━━━━━━━━━━━━━━━\u001b[0m \u001b[32m3.1/3.1 MB\u001b[0m \u001b[31m29.6 MB/s\u001b[0m eta \u001b[36m0:00:00\u001b[0m\n",
            "\u001b[?25hRequirement already satisfied: numpy in /usr/local/lib/python3.10/dist-packages (from biopython) (1.22.4)\n",
            "Installing collected packages: biopython\n",
            "Successfully installed biopython-1.81\n"
          ]
        }
      ],
      "source": [
        "!pip install biopython"
      ]
    },
    {
      "cell_type": "code",
      "source": [
        "!git clone https://github.com/furushigava/Guess-the-model-of-evolution"
      ],
      "metadata": {
        "colab": {
          "base_uri": "https://localhost:8080/"
        },
        "id": "rRZ4KViEtxLs",
        "outputId": "0269d339-43e0-4265-8ced-6b69ff29663f"
      },
      "execution_count": 2,
      "outputs": [
        {
          "output_type": "stream",
          "name": "stdout",
          "text": [
            "Cloning into 'Guess-the-model-of-evolution'...\n",
            "remote: Enumerating objects: 118, done.\u001b[K\n",
            "remote: Counting objects: 100% (115/115), done.\u001b[K\n",
            "remote: Compressing objects: 100% (75/75), done.\u001b[K\n",
            "remote: Total 118 (delta 54), reused 74 (delta 37), pack-reused 3\u001b[K\n",
            "Receiving objects: 100% (118/118), 46.48 KiB | 991.00 KiB/s, done.\n",
            "Resolving deltas: 100% (54/54), done.\n"
          ]
        }
      ]
    },
    {
      "cell_type": "code",
      "source": [
        "%cd Guess-the-model-of-evolution\n",
        "!ls"
      ],
      "metadata": {
        "colab": {
          "base_uri": "https://localhost:8080/"
        },
        "id": "KW_4XUPNt0-s",
        "outputId": "ab606fb5-bd44-426f-812d-80944a2c2315"
      },
      "execution_count": 3,
      "outputs": [
        {
          "output_type": "stream",
          "name": "stdout",
          "text": [
            "/content/Guess-the-model-of-evolution\n",
            "Engine_Evolution.py\tModels_Evolution.py\t      Results\n",
            "Evaluator_Predictor.py\tPredictor_Model_Evolution.py  sequence_prp_example.txt\n"
          ]
        }
      ]
    },
    {
      "cell_type": "code",
      "source": [
        "!python Engine_Evolution.py"
      ],
      "metadata": {
        "colab": {
          "base_uri": "https://localhost:8080/"
        },
        "id": "uLxheJM7t6LU",
        "outputId": "f8f67b07-e4a4-4cdf-aae4-c29994413180"
      },
      "execution_count": 7,
      "outputs": [
        {
          "output_type": "stream",
          "name": "stdout",
          "text": [
            "Enter path to fasta file or enter \"RANDOM\" for generate random sequence: sequence_prp_example.txt\n",
            "Choice a model of nucleotide substitutions:\n",
            "1) JC69 (Jukes and Cantor 1969)\n",
            "2) K81 (Kimura 1981)\n",
            "3) F81 (Felsenstein 1981)\n",
            "4) SYM\n",
            "5) Random model with random params\n",
            "==>5\n",
            "Start model: JC69, with params = [0.04]\n",
            "Enter time: 2.5\n",
            "Enter path to save new generated sequence or enter \"PRINT\" for only print datas: generated_file.txt\n",
            "Q-matrix: \n",
            "[[-0.12  0.04  0.04  0.04]\n",
            " [ 0.04 -0.12  0.04  0.04]\n",
            " [ 0.04  0.04 -0.12  0.04]\n",
            " [ 0.04  0.04  0.04 -0.12]]\n",
            "P-matrix: \n",
            "[[0.75274003 0.08241999 0.08241999 0.08241999]\n",
            " [0.08241999 0.75274003 0.08241999 0.08241999]\n",
            " [0.08241999 0.08241999 0.75274003 0.08241999]\n",
            " [0.08241999 0.08241999 0.08241999 0.75274003]]\n"
          ]
        }
      ]
    },
    {
      "cell_type": "code",
      "source": [
        "!ls && head -c 200 generated_file.txt"
      ],
      "metadata": {
        "colab": {
          "base_uri": "https://localhost:8080/"
        },
        "id": "iz8sf_HMuOfs",
        "outputId": "8bdc0a70-94a8-42ae-c10d-ebb4c72ca124"
      },
      "execution_count": 5,
      "outputs": [
        {
          "output_type": "stream",
          "name": "stdout",
          "text": [
            "Engine_Evolution.py\tModels_Evolution.py\t      Results\n",
            "Evaluator_Predictor.py\tPredictor_Model_Evolution.py  sequence_prp_example.txt\n",
            "generated_file.txt\t__pycache__\n",
            ">lcl|NC_000020.11_gene_1 [gene=PRNP] [db_xref=GeneID:5621,HGNC:HGNC:9449,MIM:176640] [location=4686456..4701588] [gbkey=Gene]\n",
            "TACCGTCGCTAGTAGCCGCTTCGCAACGAACTTAACCTGTCCTTAGGACCGATGCGGGCAGATCCCCGGGGTAG"
          ]
        }
      ]
    },
    {
      "cell_type": "code",
      "source": [
        "!python Predictor_Model_Evolution.py"
      ],
      "metadata": {
        "colab": {
          "base_uri": "https://localhost:8080/"
        },
        "id": "T0ExzpfEw970",
        "outputId": "94ec98b6-e5bf-4375-ae62-b2c2b763865d"
      },
      "execution_count": 11,
      "outputs": [
        {
          "output_type": "stream",
          "name": "stdout",
          "text": [
            "Enter path to fasta file with first (old) sequence: sequence_prp_example.txt\n",
            "Enter path to fasta file with second (young) sequence: generated_file.txt\n",
            "Enter time: 2.5\n",
            "Empirical P-matrix: \n",
            "[[0.74355858 0.10636963 0.11534733 0.07578636]\n",
            " [0.06319883 0.76090367 0.08303716 0.0517205 ]\n",
            " [0.05858046 0.08817069 0.75411955 0.05045387]\n",
            " [0.09358289 0.12205836 0.12180937 0.75701921]]\n",
            "Empirical Q-matrix: \n",
            "[[-0.12506401  0.05102225  0.05660901  0.0373022 ]\n",
            " [ 0.03093571 -0.11559997  0.04006292  0.02473145]\n",
            " [ 0.02836898  0.04322674 -0.11920237  0.02416249]\n",
            " [ 0.04576905  0.05853971  0.05859556 -0.11741887]]\n",
            "Best params for JC69: [0.0401829529072636]\n",
            "Best params for K81: [0.039776449220991175, 0.04065973410882995, 0.04018767539196957]\n",
            "Best params for F81: [0.03383283338307792, 0.04812758167965729, 0.047846678823302506, 0.0310247177430166]\n",
            "Best params for SYM: [0.04018178105778482, 0.04227902882990047, 0.041120442028781956, 0.039254908755156775, 0.039040439387759564, 0.03937111738419771]\n",
            "LLF(loglikelihood) for JC69: -69.6260565738495\n",
            "LLF(loglikelihood) for K81: -69.61474500636459\n",
            "LLF(loglikelihood) for F81: -132.25062716570145\n",
            "LLF(loglikelihood) for SYM: -69.35109463598661\n",
            "Difference points for JC69 method taking into account the complexity of the model: 141.252113147699\n",
            "Difference points for K81 method taking into account the complexity of the model: 145.22949001272917\n",
            "Difference points for F81 method taking into account the complexity of the model: 272.5012543314029\n",
            "Difference points for SYM method taking into account the complexity of the model: 150.70218927197323\n",
            "Predicted model: JC69\n",
            "Best params: [0.0401829529072636]\n"
          ]
        }
      ]
    },
    {
      "cell_type": "code",
      "source": [
        "!python Evaluator_Predictor.py"
      ],
      "metadata": {
        "colab": {
          "base_uri": "https://localhost:8080/"
        },
        "id": "x7xvuQRnxJ5U",
        "outputId": "5980a7ce-3151-496f-9ae7-2ade7ecea4b3"
      },
      "execution_count": null,
      "outputs": [
        {
          "output_type": "stream",
          "name": "stdout",
          "text": [
            "Enter times for check (ex: 0.5, 0.1, ...) or enter STANDART for standart check: 2.5\n",
            "General view of the error matrix:\n",
            "        Real\\Pred  JC69   K81  F81  SYM  ERRORS\n",
            "        JC69        N      N    N    N     N\n",
            "        K81         N      N    N    N     N\n",
            "        F81         N      N    N    N     N\n",
            "        SYM         N      N    N    N     N\n",
            "        \n",
            " 15% 15/100 [01:28<08:20,  5.89s/it]"
          ]
        }
      ]
    },
    {
      "cell_type": "code",
      "source": [
        "!ls Results && cat Results/result_evaluator_work.txt"
      ],
      "metadata": {
        "id": "JaG-IUis03PE"
      },
      "execution_count": null,
      "outputs": []
    }
  ]
}