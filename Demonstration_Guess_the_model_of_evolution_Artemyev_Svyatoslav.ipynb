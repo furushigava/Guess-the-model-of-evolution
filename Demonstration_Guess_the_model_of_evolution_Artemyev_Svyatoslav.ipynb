{
  "nbformat": 4,
  "nbformat_minor": 0,
  "metadata": {
    "colab": {
      "provenance": [],
      "include_colab_link": true
    },
    "kernelspec": {
      "name": "python3",
      "display_name": "Python 3"
    },
    "language_info": {
      "name": "python"
    }
  },
  "cells": [
    {
      "cell_type": "markdown",
      "metadata": {
        "id": "view-in-github",
        "colab_type": "text"
      },
      "source": [
        "<a href=\"https://colab.research.google.com/github/furushigava/Guess-the-model-of-evolution/blob/main/Demonstration_Guess_the_model_of_evolution_Artemyev_Svyatoslav.ipynb\" target=\"_parent\"><img src=\"https://colab.research.google.com/assets/colab-badge.svg\" alt=\"Open In Colab\"/></a>"
      ]
    },
    {
      "cell_type": "markdown",
      "source": [
        "Рабочий GitHub: https://github.com/furushigava/Guess-the-model-of-evolution\n"
      ],
      "metadata": {
        "id": "nXXDmdRF0auq"
      }
    },
    {
      "cell_type": "code",
      "execution_count": 1,
      "metadata": {
        "colab": {
          "base_uri": "https://localhost:8080/"
        },
        "id": "dJIHNp_oxQy3",
        "outputId": "eefd19bf-2d18-43df-9ca4-afcf83408a87"
      },
      "outputs": [
        {
          "output_type": "stream",
          "name": "stdout",
          "text": [
            "Collecting biopython\n",
            "  Downloading biopython-1.81-cp310-cp310-manylinux_2_17_x86_64.manylinux2014_x86_64.whl (3.1 MB)\n",
            "\u001b[?25l     \u001b[90m━━━━━━━━━━━━━━━━━━━━━━━━━━━━━━━━━━━━━━━━\u001b[0m \u001b[32m0.0/3.1 MB\u001b[0m \u001b[31m?\u001b[0m eta \u001b[36m-:--:--\u001b[0m\r\u001b[2K     \u001b[91m━━━\u001b[0m\u001b[90m╺\u001b[0m\u001b[90m━━━━━━━━━━━━━━━━━━━━━━━━━━━━━━━━━━━━\u001b[0m \u001b[32m0.2/3.1 MB\u001b[0m \u001b[31m6.9 MB/s\u001b[0m eta \u001b[36m0:00:01\u001b[0m\r\u001b[2K     \u001b[91m━━━━━━━━━━━━━━━━━━\u001b[0m\u001b[90m╺\u001b[0m\u001b[90m━━━━━━━━━━━━━━━━━━━━━\u001b[0m \u001b[32m1.4/3.1 MB\u001b[0m \u001b[31m20.6 MB/s\u001b[0m eta \u001b[36m0:00:01\u001b[0m\r\u001b[2K     \u001b[90m━━━━━━━━━━━━━━━━━━━━━━━━━━━━━━━━━━━━━━━━\u001b[0m \u001b[32m3.1/3.1 MB\u001b[0m \u001b[31m29.6 MB/s\u001b[0m eta \u001b[36m0:00:00\u001b[0m\n",
            "\u001b[?25hRequirement already satisfied: numpy in /usr/local/lib/python3.10/dist-packages (from biopython) (1.22.4)\n",
            "Installing collected packages: biopython\n",
            "Successfully installed biopython-1.81\n"
          ]
        }
      ],
      "source": [
        "!pip install biopython"
      ]
    },
    {
      "cell_type": "code",
      "source": [
        "!git clone https://github.com/furushigava/Guess-the-model-of-evolution"
      ],
      "metadata": {
        "colab": {
          "base_uri": "https://localhost:8080/"
        },
        "id": "rRZ4KViEtxLs",
        "outputId": "0269d339-43e0-4265-8ced-6b69ff29663f"
      },
      "execution_count": 2,
      "outputs": [
        {
          "output_type": "stream",
          "name": "stdout",
          "text": [
            "Cloning into 'Guess-the-model-of-evolution'...\n",
            "remote: Enumerating objects: 118, done.\u001b[K\n",
            "remote: Counting objects: 100% (115/115), done.\u001b[K\n",
            "remote: Compressing objects: 100% (75/75), done.\u001b[K\n",
            "remote: Total 118 (delta 54), reused 74 (delta 37), pack-reused 3\u001b[K\n",
            "Receiving objects: 100% (118/118), 46.48 KiB | 991.00 KiB/s, done.\n",
            "Resolving deltas: 100% (54/54), done.\n"
          ]
        }
      ]
    },
    {
      "cell_type": "code",
      "source": [
        "%cd Guess-the-model-of-evolution\n",
        "!ls"
      ],
      "metadata": {
        "colab": {
          "base_uri": "https://localhost:8080/"
        },
        "id": "KW_4XUPNt0-s",
        "outputId": "ab606fb5-bd44-426f-812d-80944a2c2315"
      },
      "execution_count": 3,
      "outputs": [
        {
          "output_type": "stream",
          "name": "stdout",
          "text": [
            "/content/Guess-the-model-of-evolution\n",
            "Engine_Evolution.py\tModels_Evolution.py\t      Results\n",
            "Evaluator_Predictor.py\tPredictor_Model_Evolution.py  sequence_prp_example.txt\n"
          ]
        }
      ]
    },
    {
      "cell_type": "code",
      "source": [
        "!python Engine_Evolution.py"
      ],
      "metadata": {
        "colab": {
          "base_uri": "https://localhost:8080/"
        },
        "id": "uLxheJM7t6LU",
        "outputId": "f8f67b07-e4a4-4cdf-aae4-c29994413180"
      },
      "execution_count": 7,
      "outputs": [
        {
          "output_type": "stream",
          "name": "stdout",
          "text": [
            "Enter path to fasta file or enter \"RANDOM\" for generate random sequence: sequence_prp_example.txt\n",
            "Choice a model of nucleotide substitutions:\n",
            "1) JC69 (Jukes and Cantor 1969)\n",
            "2) K81 (Kimura 1981)\n",
            "3) F81 (Felsenstein 1981)\n",
            "4) SYM\n",
            "5) Random model with random params\n",
            "==>5\n",
            "Start model: JC69, with params = [0.04]\n",
            "Enter time: 2.5\n",
            "Enter path to save new generated sequence or enter \"PRINT\" for only print datas: generated_file.txt\n",
            "Q-matrix: \n",
            "[[-0.12  0.04  0.04  0.04]\n",
            " [ 0.04 -0.12  0.04  0.04]\n",
            " [ 0.04  0.04 -0.12  0.04]\n",
            " [ 0.04  0.04  0.04 -0.12]]\n",
            "P-matrix: \n",
            "[[0.75274003 0.08241999 0.08241999 0.08241999]\n",
            " [0.08241999 0.75274003 0.08241999 0.08241999]\n",
            " [0.08241999 0.08241999 0.75274003 0.08241999]\n",
            " [0.08241999 0.08241999 0.08241999 0.75274003]]\n"
          ]
        }
      ]
    },
    {
      "cell_type": "code",
      "source": [
        "!ls && head -c 200 generated_file.txt"
      ],
      "metadata": {
        "colab": {
          "base_uri": "https://localhost:8080/"
        },
        "id": "iz8sf_HMuOfs",
        "outputId": "8bdc0a70-94a8-42ae-c10d-ebb4c72ca124"
      },
      "execution_count": 5,
      "outputs": [
        {
          "output_type": "stream",
          "name": "stdout",
          "text": [
            "Engine_Evolution.py\tModels_Evolution.py\t      Results\n",
            "Evaluator_Predictor.py\tPredictor_Model_Evolution.py  sequence_prp_example.txt\n",
            "generated_file.txt\t__pycache__\n",
            ">lcl|NC_000020.11_gene_1 [gene=PRNP] [db_xref=GeneID:5621,HGNC:HGNC:9449,MIM:176640] [location=4686456..4701588] [gbkey=Gene]\n",
            "TACCGTCGCTAGTAGCCGCTTCGCAACGAACTTAACCTGTCCTTAGGACCGATGCGGGCAGATCCCCGGGGTAG"
          ]
        }
      ]
    },
    {
      "cell_type": "code",
      "source": [
        "!python Predictor_Model_Evolution.py"
      ],
      "metadata": {
        "colab": {
          "base_uri": "https://localhost:8080/"
        },
        "id": "T0ExzpfEw970",
        "outputId": "94ec98b6-e5bf-4375-ae62-b2c2b763865d"
      },
      "execution_count": 11,
      "outputs": [
        {
          "output_type": "stream",
          "name": "stdout",
          "text": [
            "Enter path to fasta file with first (old) sequence: sequence_prp_example.txt\n",
            "Enter path to fasta file with second (young) sequence: generated_file.txt\n",
            "Enter time: 2.5\n",
            "Empirical P-matrix: \n",
            "[[0.74355858 0.10636963 0.11534733 0.07578636]\n",
            " [0.06319883 0.76090367 0.08303716 0.0517205 ]\n",
            " [0.05858046 0.08817069 0.75411955 0.05045387]\n",
            " [0.09358289 0.12205836 0.12180937 0.75701921]]\n",
            "Empirical Q-matrix: \n",
            "[[-0.12506401  0.05102225  0.05660901  0.0373022 ]\n",
            " [ 0.03093571 -0.11559997  0.04006292  0.02473145]\n",
            " [ 0.02836898  0.04322674 -0.11920237  0.02416249]\n",
            " [ 0.04576905  0.05853971  0.05859556 -0.11741887]]\n",
            "Best params for JC69: [0.0401829529072636]\n",
            "Best params for K81: [0.039776449220991175, 0.04065973410882995, 0.04018767539196957]\n",
            "Best params for F81: [0.03383283338307792, 0.04812758167965729, 0.047846678823302506, 0.0310247177430166]\n",
            "Best params for SYM: [0.04018178105778482, 0.04227902882990047, 0.041120442028781956, 0.039254908755156775, 0.039040439387759564, 0.03937111738419771]\n",
            "LLF(loglikelihood) for JC69: -69.6260565738495\n",
            "LLF(loglikelihood) for K81: -69.61474500636459\n",
            "LLF(loglikelihood) for F81: -132.25062716570145\n",
            "LLF(loglikelihood) for SYM: -69.35109463598661\n",
            "Difference points for JC69 method taking into account the complexity of the model: 141.252113147699\n",
            "Difference points for K81 method taking into account the complexity of the model: 145.22949001272917\n",
            "Difference points for F81 method taking into account the complexity of the model: 272.5012543314029\n",
            "Difference points for SYM method taking into account the complexity of the model: 150.70218927197323\n",
            "Predicted model: JC69\n",
            "Best params: [0.0401829529072636]\n"
          ]
        }
      ]
    },
    {
      "cell_type": "code",
      "source": [
        "!python Evaluator_Predictor.py"
      ],
      "metadata": {
        "colab": {
          "base_uri": "https://localhost:8080/"
        },
        "id": "x7xvuQRnxJ5U",
        "outputId": "5980a7ce-3151-496f-9ae7-2ade7ecea4b3"
      },
      "execution_count": 12,
      "outputs": [
        {
          "output_type": "stream",
          "name": "stdout",
          "text": [
            "Enter times for check (ex: 0.5, 0.1, ...) or enter STANDART for standart check: 2.5\n",
            "General view of the error matrix:\n",
            "        Real\\Pred  JC69   K81  F81  SYM  ERRORS\n",
            "        JC69        N      N    N    N     N\n",
            "        K81         N      N    N    N     N\n",
            "        F81         N      N    N    N     N\n",
            "        SYM         N      N    N    N     N\n",
            "        \n",
            "100% 100/100 [09:29<00:00,  5.69s/it]\n",
            "100% 100/100 [09:31<00:00,  5.72s/it]\n",
            "100% 100/100 [09:28<00:00,  5.68s/it]\n",
            "100% 100/100 [09:22<00:00,  5.63s/it]\n",
            "For time = 2.5, the error matrix looks like this: \n",
            "[[ 74  18   6   2   0]\n",
            " [  0  94   0   6   0]\n",
            " [  0   0 100   0   0]\n",
            " [  0   0   0 100   0]]\n"
          ]
        }
      ]
    },
    {
      "cell_type": "code",
      "source": [
        "!ls Results && cat Results/result_evaluator_work.txt"
      ],
      "metadata": {
        "colab": {
          "base_uri": "https://localhost:8080/"
        },
        "id": "JaG-IUis03PE",
        "outputId": "94d2db74-cbfb-4234-ec10-24a8743eb36d"
      },
      "execution_count": 13,
      "outputs": [
        {
          "output_type": "stream",
          "name": "stdout",
          "text": [
            "result_evaluator_work.txt  sequence_generated.txt  sequence_prp_example.txt\n",
            "result_predictor_work.txt  sequence_old.txt\n",
            "General view of the error matrix:\r\n",
            "        Real\\Pred  JC69   K81  F81  SYM  ERRORS\r\n",
            "        JC69        N      N    N    N     N\r\n",
            "        K81         N      N    N    N     N\r\n",
            "        F81         N      N    N    N     N\r\n",
            "        SYM         N      N    N    N     N\r\n",
            "For time = 1e-05, the error matrix looks like this: \r\n",
            "[[58  4  1  0 37]\r\n",
            " [54  6  0  0 40]\r\n",
            " [67  2  0  0 31]\r\n",
            " [65  5  0  1 29]]\r\n",
            "For time = 0.0001, the error matrix looks like this: \r\n",
            "[[89  7  3  0  1]\r\n",
            " [67 33  0  0  0]\r\n",
            " [76 10 13  1  0]\r\n",
            " [55 33  4  8  0]]\r\n",
            "For time = 0.001, the error matrix looks like this: \r\n",
            "[[80 10  6  4  0]\r\n",
            " [19 78  2  1  0]\r\n",
            " [17  3 78  2  0]\r\n",
            " [11 20  2 67  0]]\r\n",
            "For time = 0.01, the error matrix looks like this: \r\n",
            "[[79 15  5  1  0]\r\n",
            " [ 4 88  1  7  0]\r\n",
            " [ 1  2 95  2  0]\r\n",
            " [ 0  2  0 98  0]]\r\n",
            "For time = 0.05, the error matrix looks like this: \r\n",
            "[[ 81  14   2   3   0]\r\n",
            " [  0  94   0   6   0]\r\n",
            " [  0   0 100   0   0]\r\n",
            " [  0   0   0 100   0]]\r\n",
            "For time = 0.1, the error matrix looks like this: \r\n",
            "[[ 86   8   3   3   0]\r\n",
            " [  0  96   0   4   0]\r\n",
            " [  0   0 100   0   0]\r\n",
            " [  0   0   0 100   0]] \r\n",
            "For time = 0.15, the error matrix looks like this: \r\n",
            "[[ 74  15   8   3   0]\r\n",
            " [  0  96   0   4   0]\r\n",
            " [  0   0 100   0   0]\r\n",
            " [  0   0   0 100   0]]\r\n",
            "For time = 0.2, the error matrix looks like this: \r\n",
            "[[ 76  15   5   4   0]\r\n",
            " [  0  93   0   7   0]\r\n",
            " [  0   0 100   0   0]\r\n",
            " [  0   0   0 100   0]]\r\n",
            "For time = 0.25, the error matrix looks like this: \r\n",
            "[[ 84   5  10   1   0]\r\n",
            " [  0  93   0   7   0]\r\n",
            " [  0   0 100   0   0]\r\n",
            " [  0   0   0 100   0]]\r\n",
            "For time = 0.3, the error matrix looks like this: \r\n",
            "[[ 79  12   7   2   0]\r\n",
            " [  0  97   0   3   0]\r\n",
            " [  0   0 100   0   0]\r\n",
            " [  0   0   0 100   0]]\r\n",
            "For time = 0.35, the error matrix looks like this: \r\n",
            "[[ 73  13   8   6   0]\r\n",
            " [  0  91   0   9   0]\r\n",
            " [  0   0 100   0   0]\r\n",
            " [  0   0   0 100   0]]\r\n",
            "For time = 0.4, the error matrix looks like this: \r\n",
            "[[ 80  14   5   1   0]\r\n",
            " [  0  96   0   4   0]\r\n",
            " [  0   0 100   0   0]\r\n",
            " [  0   0   0 100   0]]\r\n",
            "For time = 0.45, the error matrix looks like this: \r\n",
            "[[ 75  13   7   5   0]\r\n",
            " [  0  95   0   5   0]\r\n",
            " [  0   0 100   0   0]\r\n",
            " [  0   0   0 100   0]]\r\n",
            "For time = 0.5, the error matrix looks like this: \r\n",
            "[[ 82  12   0   6   0]\r\n",
            " [  0  96   0   4   0]\r\n",
            " [  0   0 100   0   0]\r\n",
            " [  0   0   0 100   0]]\r\n",
            "For time = 1.0, the error matrix looks like this: \r\n",
            "[[ 79  15   4   2   0]\r\n",
            " [  0  96   0   4   0]\r\n",
            " [  0   0 100   0   0]\r\n",
            " [  0   0   0 100   0]]\r\n",
            "For time = 1.5, the error matrix looks like this: \r\n",
            "[[ 75  17   4   4   0]\r\n",
            " [  0  97   0   3   0]\r\n",
            " [  0   0 100   0   0]\r\n",
            " [  0   0   0 100   0]]\r\n",
            "For time = 2.0, the error matrix looks like this: \r\n",
            "[[ 65  20  12   2   1]\r\n",
            " [  0  93   0   7   0]\r\n",
            " [  0   0 100   0   0]\r\n",
            " [  0   0   0 100   0]]\r\n",
            "For time = 2.5, the error matrix looks like this: \r\n",
            "[[ 74  14   6   6   0]\r\n",
            " [  0  94   0   6   0]\r\n",
            " [  0   0 100   0   0]\r\n",
            " [  0   0   0 100   0]]\r\n",
            "For time = 3.0, the error matrix looks like this: \r\n",
            "[[71 15 10  4  0]\r\n",
            " [ 0 91  0  9  0]\r\n",
            " [ 0  0 99  1  0]\r\n",
            " [ 0  0  0 99  1]]\r\n",
            "For time = 3.5, the error matrix looks like this: \r\n",
            "[[ 68  20   7   5   0]\r\n",
            " [  0  94   0   5   1]\r\n",
            " [  1   0  99   0   0]\r\n",
            " [  0   0   0 100   0]]\r\n",
            "For time = 4.0, the error matrix looks like this: \r\n",
            "[[62 15 11  9  3]\r\n",
            " [ 0 96  0  3  1]\r\n",
            " [ 2  0 98  0  0]\r\n",
            " [ 0  0  0 98  2]]\r\n",
            "For time = 4.5, the error matrix looks like this: \r\n",
            "[[64 24  7  3  2]\r\n",
            " [ 0 93  0  6  1]\r\n",
            " [ 6  0 94  0  0]\r\n",
            " [ 0  0  0 99  1]]\r\n",
            "For time = 5.0, the error matrix looks like this: \r\n",
            "[[69 15 10  5  1]\r\n",
            " [ 0 90  0  8  2]\r\n",
            " [ 4  0 96  0  0]\r\n",
            " [ 0  0  0 97  3]]\r\n",
            "For time = 5.5, the error matrix looks like this: \r\n",
            "[[65 21 11  1  2]\r\n",
            " [ 0 90  0  9  1]\r\n",
            " [ 3  0 96  0  1]\r\n",
            " [ 0  0  0 98  2]]\r\n",
            "For time = 6.0, the error matrix looks like this: \r\n",
            "[[67 22  4  4  3]\r\n",
            " [ 0 93  0  6  1]\r\n",
            " [ 2  0 96  0  2]\r\n",
            " [ 0  0  0 96  4]]\r\n",
            "For time = 6.5, the error matrix looks like this: \r\n",
            "[[60 29  9  2  0]\r\n",
            " [ 0 88  0  8  4]\r\n",
            " [ 6  0 93  0  1]\r\n",
            " [ 0  0  0 95  5]]\r\n",
            "For time = 7.0, the error matrix looks like this: \r\n",
            "[[58 24  8  7  3]\r\n",
            " [ 0 88  0  8  4]\r\n",
            " [ 3  0 94  0  3]\r\n",
            " [ 0  0  0 99  1]]\r\n",
            "For time = 7.5, the error matrix looks like this: \r\n",
            "[[68 18  6  7  1]\r\n",
            " [ 0 84  0 13  3]\r\n",
            " [ 3  0 94  0  3]\r\n",
            " [ 0  0  0 97  3]]\r\n",
            "For time = 8.0, the error matrix looks like this: \r\n",
            "[[55 28  8  4  5]\r\n",
            " [ 0 87  0  6  7]\r\n",
            " [ 9  0 90  0  1]\r\n",
            " [ 0  0  0 96  4]]\r\n",
            "For time = 8.5, the error matrix looks like this: \r\n",
            "[[48 31 11  5  5]\r\n",
            " [ 0 82  0 11  7]\r\n",
            " [ 4  0 92  0  4]\r\n",
            " [ 0  0  0 93  7]]\r\n",
            "For time = 9.0, the error matrix looks like this: \r\n",
            "[[57 31  8  3  1]\r\n",
            " [ 0 85  0  9  6]\r\n",
            " [ 4  0 94  0  2]\r\n",
            " [ 0  0  0 91  9]]\r\n",
            "For time = 9.5, the error matrix looks like this: \r\n",
            "[[45 30 11  7  7]\r\n",
            " [ 0 89  0  6  5]\r\n",
            " [ 4  1 92  0  3]\r\n",
            " [ 0  0  0 95  5]]\r\n",
            "For time = 10.0, the error matrix looks like this: \r\n",
            "[[55 26 12  3  4]\r\n",
            " [ 0 90  0  7  3]\r\n",
            " [11  0 83  0  6]\r\n",
            " [ 0  0  0 91  9]]\r\n",
            "\r\n"
          ]
        }
      ]
    }
  ]
}